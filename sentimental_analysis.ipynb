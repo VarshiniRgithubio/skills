{
  "nbformat": 4,
  "nbformat_minor": 0,
  "metadata": {
    "colab": {
      "provenance": []
    },
    "kernelspec": {
      "name": "python3",
      "display_name": "Python 3"
    },
    "language_info": {
      "name": "python"
    }
  },
  "cells": [
    {
      "cell_type": "code",
      "execution_count": 1,
      "metadata": {
        "colab": {
          "base_uri": "https://localhost:8080/"
        },
        "id": "Oz3KB40fIYrp",
        "outputId": "6d87c59e-23a9-4079-e8b3-80dc0503e812"
      },
      "outputs": [
        {
          "output_type": "stream",
          "name": "stdout",
          "text": [
            "\u001b[2K     \u001b[90m━━━━━━━━━━━━━━━━━━━━━━━━━━━━━━━━━━━━━━━━\u001b[0m \u001b[32m44.3/44.3 kB\u001b[0m \u001b[31m1.0 MB/s\u001b[0m eta \u001b[36m0:00:00\u001b[0m\n",
            "\u001b[2K   \u001b[90m━━━━━━━━━━━━━━━━━━━━━━━━━━━━━━━━━━━━━━━━\u001b[0m \u001b[32m9.8/9.8 MB\u001b[0m \u001b[31m46.3 MB/s\u001b[0m eta \u001b[36m0:00:00\u001b[0m\n",
            "\u001b[2K   \u001b[90m━━━━━━━━━━━━━━━━━━━━━━━━━━━━━━━━━━━━━━━━\u001b[0m \u001b[32m6.9/6.9 MB\u001b[0m \u001b[31m42.6 MB/s\u001b[0m eta \u001b[36m0:00:00\u001b[0m\n",
            "\u001b[2K   \u001b[90m━━━━━━━━━━━━━━━━━━━━━━━━━━━━━━━━━━━━━━━━\u001b[0m \u001b[32m79.1/79.1 kB\u001b[0m \u001b[31m3.5 MB/s\u001b[0m eta \u001b[36m0:00:00\u001b[0m\n",
            "\u001b[?25h"
          ]
        }
      ],
      "source": [
        "!pip install streamlit transformers pyngrok --quiet\n"
      ]
    },
    {
      "cell_type": "code",
      "source": [
        "!ngrok config add-authtoken 2w2vF65KRcJtsJiUHZtLzghp4ns_2Hb8MuUcYLBmXHDcLJ58w\n"
      ],
      "metadata": {
        "colab": {
          "base_uri": "https://localhost:8080/"
        },
        "id": "k1E06mtfIkLN",
        "outputId": "1c9679ab-bda1-45cb-9202-278254c25d92"
      },
      "execution_count": 5,
      "outputs": [
        {
          "output_type": "stream",
          "name": "stdout",
          "text": [
            "Authtoken saved to configuration file: /root/.config/ngrok/ngrok.yml\n"
          ]
        }
      ]
    },
    {
      "cell_type": "code",
      "source": [
        "%%writefile app.py\n",
        "import streamlit as st\n",
        "from transformers import pipeline\n",
        "\n",
        "@st.cache_resource\n",
        "def load_model():\n",
        "    return pipeline(\"sentiment-analysis\", model=\"nlptown/bert-base-multilingual-uncased-sentiment\")\n",
        "\n",
        "sentiment_analyzer = load_model()\n",
        "\n",
        "st.title(\"Sentiment Analyzer App 💬\")\n",
        "st.write(\"Analyze the sentiment of your text using a multilingual BERT model.\")\n",
        "\n",
        "user_input = st.text_area(\"Enter your text:\", \"I love Hugging Face!\")\n",
        "\n",
        "if st.button(\"Analyze Sentiment\"):\n",
        "    with st.spinner(\"Analyzing...\"):\n",
        "        result = sentiment_analyzer(user_input)\n",
        "        label = result[0]['label']\n",
        "        score = result[0]['score']\n",
        "        st.success(f\"**Sentiment:** {label} \\n\\n**Confidence:** {score:.2f}\")\n"
      ],
      "metadata": {
        "colab": {
          "base_uri": "https://localhost:8080/"
        },
        "id": "qiKJSaHHIx9y",
        "outputId": "560339f0-12eb-4160-9732-b6666e183eba"
      },
      "execution_count": 6,
      "outputs": [
        {
          "output_type": "stream",
          "name": "stdout",
          "text": [
            "Overwriting app.py\n"
          ]
        }
      ]
    },
    {
      "cell_type": "code",
      "source": [
        "from pyngrok import ngrok\n",
        "\n",
        "# Create public tunnel\n",
        "public_url = ngrok.connect(8501, \"http\")\n",
        "print(f\"🔗 App is live at: {public_url}\")\n",
        "\n",
        "# Run Streamlit app in background\n",
        "!streamlit run app.py &>/content/logs.txt &\n"
      ],
      "metadata": {
        "colab": {
          "base_uri": "https://localhost:8080/"
        },
        "id": "s1eMxP10I3iq",
        "outputId": "327a0c20-96c2-4344-880d-f6df3ce9090f"
      },
      "execution_count": 8,
      "outputs": [
        {
          "output_type": "stream",
          "name": "stdout",
          "text": [
            "🔗 App is live at: NgrokTunnel: \"https://c453-104-196-164-95.ngrok-free.app\" -> \"http://localhost:8501\"\n"
          ]
        }
      ]
    },
    {
      "cell_type": "code",
      "source": [],
      "metadata": {
        "id": "PfpTCBotLR_b"
      },
      "execution_count": null,
      "outputs": []
    }
  ]
}